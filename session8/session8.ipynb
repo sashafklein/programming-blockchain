{
 "cells": [
  {
   "cell_type": "code",
   "execution_count": 1,
   "id": "38e2d4da",
   "metadata": {},
   "outputs": [],
   "source": [
    "############## PLEASE RUN THIS CELL FIRST! ###################\n",
    "\n",
    "# import everything and define a test runner function\n",
    "from importlib import reload\n",
    "from helper import run\n",
    "import bloomfilter, network"
   ]
  },
  {
   "cell_type": "code",
   "execution_count": 2,
   "id": "114053e0",
   "metadata": {},
   "outputs": [
    {
     "name": "stdout",
     "output_type": "stream",
     "text": [
      "[0, 0, 0, 0, 0, 0, 0, 0, 0, 1]\n"
     ]
    }
   ],
   "source": [
    "# Example Bloom Filter\n",
    "from helper import hash256\n",
    "bit_field_size = 10\n",
    "bit_field = [0] * bit_field_size\n",
    "h256 = hash256(b'hello world')\n",
    "bit = int.from_bytes(h256, 'big') % bit_field_size\n",
    "bit_field[bit] = 1\n",
    "print(bit_field)"
   ]
  },
  {
   "cell_type": "code",
   "execution_count": 3,
   "id": "7f6940a5",
   "metadata": {},
   "outputs": [
    {
     "name": "stdout",
     "output_type": "stream",
     "text": [
      "[0, 0, 1, 0, 0, 0, 0, 0, 0, 1]\n"
     ]
    }
   ],
   "source": [
    "# Example Bloom Filter 2\n",
    "from helper import hash256\n",
    "bit_field_size = 10\n",
    "bit_field = [0] * bit_field_size\n",
    "h = hash256(b'hello world')\n",
    "bit = int.from_bytes(h, 'big') % bit_field_size\n",
    "bit_field[bit] = 1\n",
    "h = hash256(b'goodbye')\n",
    "bit = int.from_bytes(h, 'big') % bit_field_size\n",
    "bit_field[bit] = 1\n",
    "print(bit_field)"
   ]
  },
  {
   "cell_type": "code",
   "execution_count": 4,
   "id": "cc1ed58a",
   "metadata": {},
   "outputs": [
    {
     "name": "stdout",
     "output_type": "stream",
     "text": [
      "[1, 1, 1, 0, 0, 0, 0, 0, 0, 1]\n"
     ]
    }
   ],
   "source": [
    "# Example Bloom Filter 3\n",
    "from helper import hash160, hash256\n",
    "bit_field_size = 10\n",
    "bit_field = [0] * bit_field_size\n",
    "phrase1 = b'hello world'\n",
    "h1 = hash256(phrase1)\n",
    "bit1 = int.from_bytes(h1, 'big') % bit_field_size\n",
    "bit_field[bit1] = 1\n",
    "h2 = hash160(phrase1)\n",
    "bit2 = int.from_bytes(h2, 'big') % bit_field_size\n",
    "bit_field[bit2] = 1\n",
    "phrase2 = b'goodbye'\n",
    "h1 = hash256(phrase2)\n",
    "bit1 = int.from_bytes(h1, 'big') % bit_field_size\n",
    "bit_field[bit1] = 1\n",
    "h2 = hash160(phrase2)\n",
    "bit2 = int.from_bytes(h2, 'big') % bit_field_size\n",
    "bit_field[bit2] = 1\n",
    "print(bit_field)"
   ]
  },
  {
   "cell_type": "code",
   "execution_count": 5,
   "id": "71272776",
   "metadata": {},
   "outputs": [
    {
     "name": "stdout",
     "output_type": "stream",
     "text": [
      "[0, 0, 0, 0, 0, 1, 1, 0, 0, 1, 1, 0, 0, 0, 0, 0]\n"
     ]
    }
   ],
   "source": [
    "# Example BIP0037 Bloom Filter\n",
    "from helper import murmur3\n",
    "from bloomfilter import BIP37_CONSTANT\n",
    "field_size = 2\n",
    "num_functions = 2\n",
    "tweak = 42\n",
    "bit_field_size = field_size * 8\n",
    "bit_field = [0] * bit_field_size\n",
    "for phrase in (b'hello world', b'goodbye'):\n",
    "    for i in range(num_functions):\n",
    "        seed = i * BIP37_CONSTANT + tweak\n",
    "        h = murmur3(phrase, seed=seed)\n",
    "        bit = h % bit_field_size\n",
    "        bit_field[bit] = 1\n",
    "print(bit_field)"
   ]
  },
  {
   "cell_type": "markdown",
   "id": "1a620554",
   "metadata": {},
   "source": [
    "### Exercise 1\n",
    "Given a Bloom Filter with these parameters: size=10, function count=5, tweak=99, which bits are set after adding these items?\n",
    "\n",
    "* `b'Hello World'`\n",
    "* `b'Goodbye!'`\n"
   ]
  },
  {
   "cell_type": "code",
   "execution_count": 9,
   "id": "ceed50bb",
   "metadata": {},
   "outputs": [
    {
     "name": "stdout",
     "output_type": "stream",
     "text": [
      "4000600a080000010940\n"
     ]
    }
   ],
   "source": [
    "# Exercise 1\n",
    "\n",
    "from bloomfilter import BIP37_CONSTANT\n",
    "from helper import murmur3, bit_field_to_bytes\n",
    "field_size = 10\n",
    "function_count = 5\n",
    "tweak = 99\n",
    "items = (b'Hello World',  b'Goodbye!')\n",
    "# bit_field_size is 8 * field_size\n",
    "bit_field_size = 8 * field_size\n",
    "# create a bit field with the appropriate size\n",
    "bit_field = [0] * bit_field_size\n",
    "# for each item you want to add to the filter\n",
    "for phrase in items:\n",
    "    # iterate function_count number of times\n",
    "    for i in range(function_count):\n",
    "        # BIP0037 spec seed is i*BIP37_CONSTANT + tweak\n",
    "        seed = i * BIP37_CONSTANT + tweak\n",
    "        # get the murmur3 hash given that seed\n",
    "        h = murmur3(phrase, seed=seed)\n",
    "        # set the bit to be h mod the bit_field_size\n",
    "        bit = h % bit_field_size\n",
    "        # set the bit_field at the index bit to be 1\n",
    "        bit_field[bit] = 1\n",
    "# print the bit field converted to bytes using bit_field_to_bytes in hex\n",
    "print(bit_field_to_bytes(bit_field).hex())"
   ]
  },
  {
   "cell_type": "markdown",
   "id": "5c23474e",
   "metadata": {},
   "source": [
    "### Exercise 2\n",
    "\n",
    "\n",
    "\n",
    "\n",
    "#### Make [this test](/edit/session8/bloomfilter.py) pass: `bloomfilter.py:BloomFilterTest:test_add`"
   ]
  },
  {
   "cell_type": "code",
   "execution_count": 8,
   "id": "ab4d865e",
   "metadata": {},
   "outputs": [
    {
     "name": "stderr",
     "output_type": "stream",
     "text": [
      ".\n",
      "----------------------------------------------------------------------\n",
      "Ran 1 test in 0.004s\n",
      "\n",
      "OK\n"
     ]
    }
   ],
   "source": [
    "# Exercise 2\n",
    "\n",
    "reload(bloomfilter)\n",
    "run(bloomfilter.BloomFilterTest('test_add'))"
   ]
  },
  {
   "cell_type": "markdown",
   "id": "785dc758",
   "metadata": {},
   "source": [
    "### Exercise 3\n",
    "\n",
    "\n",
    "\n",
    "\n",
    "#### Make [this test](/edit/session8/bloomfilter.py) pass: `bloomfilter.py:BloomFilterTest:test_filterload`"
   ]
  },
  {
   "cell_type": "code",
   "execution_count": 16,
   "id": "b9844fce",
   "metadata": {},
   "outputs": [
    {
     "name": "stderr",
     "output_type": "stream",
     "text": [
      ".\n",
      "----------------------------------------------------------------------\n",
      "Ran 1 test in 0.002s\n",
      "\n",
      "OK\n"
     ]
    }
   ],
   "source": [
    "# Exercise 3\n",
    "\n",
    "reload(bloomfilter)\n",
    "run(bloomfilter.BloomFilterTest('test_filterload'))"
   ]
  },
  {
   "cell_type": "markdown",
   "id": "13dc9d85",
   "metadata": {},
   "source": [
    "### Exercise 4\n",
    "Do the following:\n",
    "\n",
    "* Connect to a testnet node\n",
    "* Load a filter for your testnet address\n",
    "* Send a request for transactions from the block which had your previous testnet transaction\n",
    "* Receive the merkleblock and tx messages.\n"
   ]
  },
  {
   "cell_type": "code",
   "execution_count": 24,
   "id": "7a0596df",
   "metadata": {},
   "outputs": [
    {
     "name": "stdout",
     "output_type": "stream",
     "text": [
      "n2o7SJECe1E56RmLKQ2GuGuZf4YtSZ2KqJ\n",
      "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\n",
      "\n"
     ]
    }
   ],
   "source": [
    "# Exercise 4\n",
    "\n",
    "from bloomfilter import BloomFilter\n",
    "from ecc import PrivateKey\n",
    "from helper import decode_base58, hash256, little_endian_to_int\n",
    "from merkleblock import MerkleBlock\n",
    "from network import SimpleNode, GetDataMessage, FILTERED_BLOCK_DATA_TYPE\n",
    "from tx import Tx\n",
    "block_hash = bytes.fromhex('00000000000000100a5277772ca46b38af84c83a82b977a7664724d0ceb14e26')  # CHANGE\n",
    "passphrase = b'sashafklein@gmail.com:funnypassphrase'  # CHANGE\n",
    "secret = little_endian_to_int(hash256(passphrase))\n",
    "private_key = PrivateKey(secret=secret)\n",
    "addr = private_key.point.address(testnet=True)\n",
    "print(addr)\n",
    "filter_size = 30\n",
    "filter_num_functions = 5\n",
    "filter_tweak = 32  # CHANGE\n",
    "# get the hash160 of the address using decode_base58\n",
    "h160 = decode_base58(addr)\n",
    "# create a bloom filter using the filter_size, filter_num_functions and filter_tweak above\n",
    "filter = BloomFilter(filter_size, filter_num_functions, filter_tweak)\n",
    "# add the h160 to the bloom filter\n",
    "filter.add(h160)\n",
    "# connect to testnet.programmingbitcoin.com in testnet mode\n",
    "node = SimpleNode('testnet.programmingbitcoin.com', testnet=True)\n",
    "# complete the handshake\n",
    "node.handshake()\n",
    "\n",
    "# send the filterload message\n",
    "node.send(filter.filterload())\n",
    "\n",
    "# create a getdata message\n",
    "get_data = GetDataMessage()\n",
    "# add_data (FILTERED_BLOCK_DATA_TYPE, block_hash) to request the block\n",
    "get_data.add_data(FILTERED_BLOCK_DATA_TYPE, block_hash)\n",
    "# send the getdata message\n",
    "node.send(get_data)\n",
    "# wait for the merkleblock command\n",
    "mb = node.wait_for(MerkleBlock)\n",
    "# check that the merkle block's hash is the same as the block hash\n",
    "if mb.hash() != block_hash:\n",
    "    raise RuntimeError\n",
    "# check that the merkle block is valid\n",
    "if not mb.is_valid():\n",
    "    raise RuntimeError\n",
    "    \n",
    "# loop through the tx hashes we are expecting using proved_txs\n",
    "for tx_hash in mb.proved_txs():\n",
    "    # wait for the tx command\n",
    "    tx_obj = node.wait_for(Tx)\n",
    "    # check that the tx hash is the same\n",
    "    if tx_obj.hash() != tx_hash:\n",
    "        raise RuntimeError\n",
    "\n",
    "    # print the transaction serialization in hex\n",
    "    print(tx_obj.serialize().hex())"
   ]
  },
  {
   "cell_type": "markdown",
   "id": "da6b501f",
   "metadata": {},
   "source": [
    "### Exercise 5\n",
    "\n",
    "\n",
    "\n",
    "\n",
    "#### Make [this test](/edit/session8/network.py) pass: `network.py:SimpleNodeTest:test_get_filtered_txs`"
   ]
  },
  {
   "cell_type": "code",
   "execution_count": 32,
   "id": "7e6d62fe",
   "metadata": {},
   "outputs": [
    {
     "name": "stderr",
     "output_type": "stream",
     "text": [
      ".\n",
      "----------------------------------------------------------------------\n",
      "Ran 1 test in 0.186s\n",
      "\n",
      "OK\n"
     ]
    }
   ],
   "source": [
    "# Exercise 5\n",
    "\n",
    "reload(network)\n",
    "run(network.SimpleNodeTest('test_get_filtered_txs'))"
   ]
  },
  {
   "cell_type": "markdown",
   "id": "d14ded3b",
   "metadata": {},
   "source": [
    "### Exercise 6\n",
    "You have been sent some unknown amount of testnet bitcoins to your address.\n",
    "\n",
    "Send all of it back (minus fees) to `mqYz6JpuKukHzPg94y4XNDdPCEJrNkLQcv` using only the networking protocol.\n",
    "\n",
    "This should be a 1 input, 1 output transaction.\n",
    "\n",
    "Remember turn on logging in `SimpleNode` if you need to debug\n"
   ]
  },
  {
   "cell_type": "code",
   "execution_count": 67,
   "id": "6f858714",
   "metadata": {},
   "outputs": [
    {
     "name": "stdout",
     "output_type": "stream",
     "text": [
      "7620156\n",
      "01000000011f48f442b69bc35e9fcef76ed5af17c00a7d4e0b62b71c4b68399f0662a00c85080000006a473044022055c3f75fe486089b8c795fced255a7959919103d1e236f04c5c96473875e4eef022000bca98aec2c2b489ba7efde46f7ce229feb5b1204aa1ffa29fc5d118e83c0a301210396b9578d8782e7f29c0562e20234ed5bf3ba47b4a98af9baa1c820249715eedaffffffff013c467400000000001976a9146e13971913b9aa89659a9f53d327baa8826f2d7588ac00000000\n",
      "\n",
      "cd1aa1f895c7ae14efa1d3a88b00a413bf71de51def34ff0986c17b22be04106\n"
     ]
    },
    {
     "ename": "KeyboardInterrupt",
     "evalue": "",
     "output_type": "error",
     "traceback": [
      "\u001b[0;31m---------------------------------------------------------------------------\u001b[0m",
      "\u001b[0;31mKeyboardInterrupt\u001b[0m                         Traceback (most recent call last)",
      "\u001b[0;32m<ipython-input-67-5adebe68f152>\u001b[0m in \u001b[0;36m<module>\u001b[0;34m\u001b[0m\n\u001b[1;32m     88\u001b[0m \u001b[0msleep\u001b[0m\u001b[0;34m(\u001b[0m\u001b[0;36m1\u001b[0m\u001b[0;34m)\u001b[0m\u001b[0;34m\u001b[0m\u001b[0;34m\u001b[0m\u001b[0m\n\u001b[1;32m     89\u001b[0m \u001b[0;31m# now check to see if the tx has been accepted using is_tx_accepted()\u001b[0m\u001b[0;34m\u001b[0m\u001b[0;34m\u001b[0m\u001b[0;34m\u001b[0m\u001b[0m\n\u001b[0;32m---> 90\u001b[0;31m \u001b[0mprint\u001b[0m\u001b[0;34m(\u001b[0m\u001b[0mnode\u001b[0m\u001b[0;34m.\u001b[0m\u001b[0mis_tx_accepted\u001b[0m\u001b[0;34m(\u001b[0m\u001b[0mtx_obj\u001b[0m\u001b[0;34m)\u001b[0m\u001b[0;34m)\u001b[0m\u001b[0;34m\u001b[0m\u001b[0;34m\u001b[0m\u001b[0m\n\u001b[0m\u001b[1;32m     91\u001b[0m \u001b[0;34m\u001b[0m\u001b[0m\n",
      "\u001b[0;32m~/code/btc/pb-exercises/session8/network.py\u001b[0m in \u001b[0;36mis_tx_accepted\u001b[0;34m(self, tx_obj)\u001b[0m\n\u001b[1;32m    427\u001b[0m         \u001b[0mself\u001b[0m\u001b[0;34m.\u001b[0m\u001b[0msend\u001b[0m\u001b[0;34m(\u001b[0m\u001b[0mget_data\u001b[0m\u001b[0;34m)\u001b[0m\u001b[0;34m\u001b[0m\u001b[0;34m\u001b[0m\u001b[0m\n\u001b[1;32m    428\u001b[0m         \u001b[0;31m# now wait for a response\u001b[0m\u001b[0;34m\u001b[0m\u001b[0;34m\u001b[0m\u001b[0;34m\u001b[0m\u001b[0m\n\u001b[0;32m--> 429\u001b[0;31m         \u001b[0mgot_tx\u001b[0m \u001b[0;34m=\u001b[0m \u001b[0mself\u001b[0m\u001b[0;34m.\u001b[0m\u001b[0mwait_for\u001b[0m\u001b[0;34m(\u001b[0m\u001b[0mTx\u001b[0m\u001b[0;34m)\u001b[0m\u001b[0;34m\u001b[0m\u001b[0;34m\u001b[0m\u001b[0m\n\u001b[0m\u001b[1;32m    430\u001b[0m         \u001b[0;32mif\u001b[0m \u001b[0mgot_tx\u001b[0m\u001b[0;34m.\u001b[0m\u001b[0mid\u001b[0m\u001b[0;34m(\u001b[0m\u001b[0;34m)\u001b[0m \u001b[0;34m==\u001b[0m \u001b[0mtx_obj\u001b[0m\u001b[0;34m.\u001b[0m\u001b[0mid\u001b[0m\u001b[0;34m(\u001b[0m\u001b[0;34m)\u001b[0m\u001b[0;34m:\u001b[0m\u001b[0;34m\u001b[0m\u001b[0;34m\u001b[0m\u001b[0m\n\u001b[1;32m    431\u001b[0m             \u001b[0;32mreturn\u001b[0m \u001b[0;32mTrue\u001b[0m\u001b[0;34m\u001b[0m\u001b[0;34m\u001b[0m\u001b[0m\n",
      "\u001b[0;32m~/code/btc/pb-exercises/session8/network.py\u001b[0m in \u001b[0;36mwait_for\u001b[0;34m(self, *message_classes)\u001b[0m\n\u001b[1;32m    405\u001b[0m         \u001b[0;32mwhile\u001b[0m \u001b[0mcommand\u001b[0m \u001b[0;32mnot\u001b[0m \u001b[0;32min\u001b[0m \u001b[0mcommand_to_class\u001b[0m\u001b[0;34m.\u001b[0m\u001b[0mkeys\u001b[0m\u001b[0;34m(\u001b[0m\u001b[0;34m)\u001b[0m\u001b[0;34m:\u001b[0m\u001b[0;34m\u001b[0m\u001b[0;34m\u001b[0m\u001b[0m\n\u001b[1;32m    406\u001b[0m             \u001b[0;31m# get the next network message\u001b[0m\u001b[0;34m\u001b[0m\u001b[0;34m\u001b[0m\u001b[0;34m\u001b[0m\u001b[0m\n\u001b[0;32m--> 407\u001b[0;31m             \u001b[0menvelope\u001b[0m \u001b[0;34m=\u001b[0m \u001b[0mself\u001b[0m\u001b[0;34m.\u001b[0m\u001b[0mread\u001b[0m\u001b[0;34m(\u001b[0m\u001b[0;34m)\u001b[0m\u001b[0;34m\u001b[0m\u001b[0;34m\u001b[0m\u001b[0m\n\u001b[0m\u001b[1;32m    408\u001b[0m             \u001b[0;31m# set the command to be evaluated\u001b[0m\u001b[0;34m\u001b[0m\u001b[0;34m\u001b[0m\u001b[0;34m\u001b[0m\u001b[0m\n\u001b[1;32m    409\u001b[0m             \u001b[0mcommand\u001b[0m \u001b[0;34m=\u001b[0m \u001b[0menvelope\u001b[0m\u001b[0;34m.\u001b[0m\u001b[0mcommand\u001b[0m\u001b[0;34m\u001b[0m\u001b[0;34m\u001b[0m\u001b[0m\n",
      "\u001b[0;32m~/code/btc/pb-exercises/session8/network.py\u001b[0m in \u001b[0;36mread\u001b[0;34m(self)\u001b[0m\n\u001b[1;32m    392\u001b[0m     \u001b[0;32mdef\u001b[0m \u001b[0mread\u001b[0m\u001b[0;34m(\u001b[0m\u001b[0mself\u001b[0m\u001b[0;34m)\u001b[0m\u001b[0;34m:\u001b[0m\u001b[0;34m\u001b[0m\u001b[0;34m\u001b[0m\u001b[0m\n\u001b[1;32m    393\u001b[0m         \u001b[0;34m'''Read a message from the socket'''\u001b[0m\u001b[0;34m\u001b[0m\u001b[0;34m\u001b[0m\u001b[0m\n\u001b[0;32m--> 394\u001b[0;31m         \u001b[0menvelope\u001b[0m \u001b[0;34m=\u001b[0m \u001b[0mNetworkEnvelope\u001b[0m\u001b[0;34m.\u001b[0m\u001b[0mparse\u001b[0m\u001b[0;34m(\u001b[0m\u001b[0mself\u001b[0m\u001b[0;34m.\u001b[0m\u001b[0mstream\u001b[0m\u001b[0;34m,\u001b[0m \u001b[0mtestnet\u001b[0m\u001b[0;34m=\u001b[0m\u001b[0mself\u001b[0m\u001b[0;34m.\u001b[0m\u001b[0mtestnet\u001b[0m\u001b[0;34m)\u001b[0m\u001b[0;34m\u001b[0m\u001b[0;34m\u001b[0m\u001b[0m\n\u001b[0m\u001b[1;32m    395\u001b[0m         \u001b[0;32mif\u001b[0m \u001b[0mself\u001b[0m\u001b[0;34m.\u001b[0m\u001b[0mlogging\u001b[0m\u001b[0;34m:\u001b[0m\u001b[0;34m\u001b[0m\u001b[0;34m\u001b[0m\u001b[0m\n\u001b[1;32m    396\u001b[0m             \u001b[0mprint\u001b[0m\u001b[0;34m(\u001b[0m\u001b[0;34mf'receiving: {envelope}'\u001b[0m\u001b[0;34m)\u001b[0m\u001b[0;34m\u001b[0m\u001b[0;34m\u001b[0m\u001b[0m\n",
      "\u001b[0;32m~/code/btc/pb-exercises/session8/network.py\u001b[0m in \u001b[0;36mparse\u001b[0;34m(cls, s, testnet)\u001b[0m\n\u001b[1;32m     43\u001b[0m         \u001b[0;34m'''Takes a stream and creates a NetworkEnvelope'''\u001b[0m\u001b[0;34m\u001b[0m\u001b[0;34m\u001b[0m\u001b[0m\n\u001b[1;32m     44\u001b[0m         \u001b[0;31m# check the network magic\u001b[0m\u001b[0;34m\u001b[0m\u001b[0;34m\u001b[0m\u001b[0;34m\u001b[0m\u001b[0m\n\u001b[0;32m---> 45\u001b[0;31m         \u001b[0mmagic\u001b[0m \u001b[0;34m=\u001b[0m \u001b[0ms\u001b[0m\u001b[0;34m.\u001b[0m\u001b[0mread\u001b[0m\u001b[0;34m(\u001b[0m\u001b[0;36m4\u001b[0m\u001b[0;34m)\u001b[0m\u001b[0;34m\u001b[0m\u001b[0;34m\u001b[0m\u001b[0m\n\u001b[0m\u001b[1;32m     46\u001b[0m         \u001b[0;32mif\u001b[0m \u001b[0mmagic\u001b[0m \u001b[0;34m==\u001b[0m \u001b[0;34mb''\u001b[0m\u001b[0;34m:\u001b[0m\u001b[0;34m\u001b[0m\u001b[0;34m\u001b[0m\u001b[0m\n\u001b[1;32m     47\u001b[0m             \u001b[0;32mraise\u001b[0m \u001b[0mRuntimeError\u001b[0m\u001b[0;34m(\u001b[0m\u001b[0;34m'Connection reset!'\u001b[0m\u001b[0;34m)\u001b[0m\u001b[0;34m\u001b[0m\u001b[0;34m\u001b[0m\u001b[0m\n",
      "\u001b[0;32m~/.asdf/installs/python/3.9.5/lib/python3.9/socket.py\u001b[0m in \u001b[0;36mreadinto\u001b[0;34m(self, b)\u001b[0m\n\u001b[1;32m    702\u001b[0m         \u001b[0;32mwhile\u001b[0m \u001b[0;32mTrue\u001b[0m\u001b[0;34m:\u001b[0m\u001b[0;34m\u001b[0m\u001b[0;34m\u001b[0m\u001b[0m\n\u001b[1;32m    703\u001b[0m             \u001b[0;32mtry\u001b[0m\u001b[0;34m:\u001b[0m\u001b[0;34m\u001b[0m\u001b[0;34m\u001b[0m\u001b[0m\n\u001b[0;32m--> 704\u001b[0;31m                 \u001b[0;32mreturn\u001b[0m \u001b[0mself\u001b[0m\u001b[0;34m.\u001b[0m\u001b[0m_sock\u001b[0m\u001b[0;34m.\u001b[0m\u001b[0mrecv_into\u001b[0m\u001b[0;34m(\u001b[0m\u001b[0mb\u001b[0m\u001b[0;34m)\u001b[0m\u001b[0;34m\u001b[0m\u001b[0;34m\u001b[0m\u001b[0m\n\u001b[0m\u001b[1;32m    705\u001b[0m             \u001b[0;32mexcept\u001b[0m \u001b[0mtimeout\u001b[0m\u001b[0;34m:\u001b[0m\u001b[0;34m\u001b[0m\u001b[0;34m\u001b[0m\u001b[0m\n\u001b[1;32m    706\u001b[0m                 \u001b[0mself\u001b[0m\u001b[0;34m.\u001b[0m\u001b[0m_timeout_occurred\u001b[0m \u001b[0;34m=\u001b[0m \u001b[0;32mTrue\u001b[0m\u001b[0;34m\u001b[0m\u001b[0;34m\u001b[0m\u001b[0m\n",
      "\u001b[0;31mKeyboardInterrupt\u001b[0m: "
     ]
    }
   ],
   "source": [
    "# Exercise 6\n",
    "\n",
    "from time import sleep\n",
    "from block import Block\n",
    "from bloomfilter import BloomFilter\n",
    "from ecc import PrivateKey\n",
    "from helper import decode_base58, hash160, hash256, little_endian_to_int\n",
    "from merkleblock import MerkleBlock\n",
    "from network import GetHeadersMessage, HeadersMessage, SimpleNode\n",
    "from script import p2pkh_script\n",
    "from tx import Tx, TxIn, TxOut\n",
    "start_block_hex = '00000000000004aab489fc0c338a806eb70a17fce096a37c526f2625c3c37cbd'  # CHANGE\n",
    "start_block = bytes.fromhex(start_block_hex)\n",
    "end_block_hex = '00' * 32\n",
    "end_block = bytes.fromhex(end_block_hex)\n",
    "passphrase = b'sashafklein@gmail.com:funnypassphrase'  # CHANGE\n",
    "secret = little_endian_to_int(hash256(passphrase))\n",
    "private_key = PrivateKey(secret=secret)\n",
    "addr = private_key.point.address(testnet=True)\n",
    "h160 = decode_base58(addr)\n",
    "target_address = 'mqYz6JpuKukHzPg94y4XNDdPCEJrNkLQcv'\n",
    "target_h160 = decode_base58(target_address)\n",
    "target_script = p2pkh_script(target_h160)\n",
    "bloom_filter = BloomFilter(30, 5, 90210)\n",
    "fee = 5000  # fee in satoshis\n",
    "# connect to testnet.programmingbitcoin.com in testnet mode\n",
    "node = SimpleNode('testnet.programmingbitcoin.com', testnet=True)\n",
    "# add the h160 to the bloom filter\n",
    "bloom_filter.add(h160)\n",
    "\n",
    "# complete the handshake\n",
    "node.handshake()\n",
    "\n",
    "# send the 'filterload' message from the bloom filter\n",
    "node.send(bloom_filter.filterload())\n",
    "# create GetHeadersMessage with the start_block as the start_block and end_block as the end block\n",
    "msg = GetHeadersMessage(start_block=start_block, end_block=end_block)\n",
    "# send a getheaders message\n",
    "node.send(msg)\n",
    "# wait for the headers message\n",
    "headers = node.wait_for(HeadersMessage)\n",
    "# check that the headers are valid\n",
    "if not headers.is_valid():\n",
    "    raise RuntimeError\n",
    "\n",
    "# get all the block hashes from the headers.headers array\n",
    "block_hashes = [h.hash() for h in headers.headers]\n",
    "\n",
    "# get the filtered transactions from these blocks\n",
    "filtered_txs = node.get_filtered_txs(block_hashes)\n",
    "\n",
    "# loop through each filtered transaction\n",
    "for tx_obj in filtered_txs:\n",
    "    # use find_utxos to get utxos that belong to our address\n",
    "    utxos = tx_obj.find_utxos(addr)\n",
    "    # if we have any utxos, break\n",
    "    if len(utxos) > 0:\n",
    "        break\n",
    "\n",
    "# prev_tx, prev_index, prev_amount are what we get in each utxo\n",
    "prev_tx, prev_index, prev_amount = utxos[0]\n",
    "# create tx_in\n",
    "tx_in = TxIn(prev_tx, prev_index, prev_amount)\n",
    "\n",
    "# calculate the output amount (prev_amount - fee)\n",
    "output_amount = prev_amount - fee\n",
    "# create tx_out\n",
    "print(output_amount)\n",
    "tx_out = TxOut(\n",
    "    amount=output_amount,\n",
    "    script_pubkey=target_script\n",
    ")\n",
    "\n",
    "# create transaction on testnet\n",
    "tx_obj = Tx(1, [tx_in], [tx_out], 0, testnet=True)\n",
    "\n",
    "# sign the one input we have\n",
    "tx_obj.sign_input(0, private_key)\n",
    "\n",
    "# serialize and hex to see what it looks like\n",
    "msg = tx_obj.serialize().hex()\n",
    "print(msg)\n",
    "print('')\n",
    "print(tx_obj.hash().hex())\n",
    "# send this signed transaction on the network\n",
    "# node.send(tx_obj)\n",
    "# wait a sec so this message goes through to the other node sleep(1)\n",
    "sleep(1)\n",
    "# now check to see if the tx has been accepted using is_tx_accepted()\n",
    "print(node.is_tx_accepted(tx_obj))\n",
    "\n"
   ]
  },
  {
   "cell_type": "code",
   "execution_count": null,
   "id": "0ab80619",
   "metadata": {},
   "outputs": [],
   "source": []
  }
 ],
 "metadata": {
  "kernelspec": {
   "display_name": "Python 3",
   "language": "python",
   "name": "python3"
  },
  "language_info": {
   "codemirror_mode": {
    "name": "ipython",
    "version": 3
   },
   "file_extension": ".py",
   "mimetype": "text/x-python",
   "name": "python",
   "nbconvert_exporter": "python",
   "pygments_lexer": "ipython3",
   "version": "3.9.5"
  }
 },
 "nbformat": 4,
 "nbformat_minor": 5
}
