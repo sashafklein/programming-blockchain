{
 "cells": [
  {
   "cell_type": "code",
   "execution_count": 1,
   "id": "a75f3835",
   "metadata": {},
   "outputs": [],
   "source": [
    "############## PLEASE RUN THIS CELL FIRST! ###################\n",
    "\n",
    "# import everything and define a test runner function\n",
    "from importlib import reload\n",
    "from helper import run\n",
    "import ecc, helper"
   ]
  },
  {
   "cell_type": "code",
   "execution_count": 2,
   "id": "b3424c76",
   "metadata": {},
   "outputs": [
    {
     "name": "stdout",
     "output_type": "stream",
     "text": [
      "17\n",
      "11\n",
      "12\n",
      "11\n"
     ]
    }
   ],
   "source": [
    "# Addition/Subtraction example\n",
    "print((11 + 6) % 19)\n",
    "print((17 - 6) % 19)\n",
    "print((8 + 4) % 19)\n",
    "print((4 - 12) % 19)"
   ]
  },
  {
   "cell_type": "markdown",
   "id": "55a39b82",
   "metadata": {},
   "source": [
    "### Exercise 1\n",
    "Solve these equations in \\\\(F_{31}\\\\):\n",
    "* \\\\(2+15=?\\\\)\n",
    "* \\\\(17+21=?\\\\)\n",
    "* \\\\(29-4=?\\\\)\n",
    "* \\\\(15-30=?\\\\)\n",
    "\n",
    "Remember the % operator does the actual modulo operation. Also remember that `+` and `-` need to be in `()` because in the order of operations `%` comes before `+` and `-`.\n"
   ]
  },
  {
   "cell_type": "code",
   "execution_count": 4,
   "id": "83c4b57a",
   "metadata": {},
   "outputs": [
    {
     "name": "stdout",
     "output_type": "stream",
     "text": [
      "17\n",
      "7\n",
      "25\n",
      "16\n"
     ]
    }
   ],
   "source": [
    "# Exercise 1\n",
    "\n",
    "# remember that % is the modulo operator\n",
    "prime = 31\n",
    "print((2+15) % prime)\n",
    "\n",
    "# 17+21=?\n",
    "print((17+21) % prime)\n",
    "\n",
    "# 29-4=?\n",
    "print((29-4) % prime)\n",
    "\n",
    "# 15-30=?\n",
    "print((15-30) % prime)\n"
   ]
  },
  {
   "cell_type": "markdown",
   "id": "f8a57d4c",
   "metadata": {},
   "source": [
    "### Exercise 2\n",
    "\n",
    "\n",
    "\n",
    "\n",
    "#### Make [this test](/edit/session1/ecc.py) pass: `ecc.py:FieldElementTest:test_add`"
   ]
  },
  {
   "cell_type": "code",
   "execution_count": 7,
   "id": "4226358f",
   "metadata": {},
   "outputs": [
    {
     "name": "stderr",
     "output_type": "stream",
     "text": [
      ".\n",
      "----------------------------------------------------------------------\n",
      "Ran 1 test in 0.002s\n",
      "\n",
      "OK\n"
     ]
    }
   ],
   "source": [
    "# Exercise 2\n",
    "\n",
    "reload(ecc)\n",
    "run(ecc.FieldElementTest('test_add'))"
   ]
  },
  {
   "cell_type": "markdown",
   "id": "dc9d12e2",
   "metadata": {},
   "source": [
    "### Exercise 3\n",
    "\n",
    "\n",
    "\n",
    "\n",
    "#### Make [this test](/edit/session1/ecc.py) pass: `ecc.py:FieldElementTest:test_sub`"
   ]
  },
  {
   "cell_type": "code",
   "execution_count": 8,
   "id": "76a491a3",
   "metadata": {},
   "outputs": [
    {
     "name": "stderr",
     "output_type": "stream",
     "text": [
      ".\n",
      "----------------------------------------------------------------------\n",
      "Ran 1 test in 0.001s\n",
      "\n",
      "OK\n"
     ]
    }
   ],
   "source": [
    "# Exercise 3\n",
    "\n",
    "reload(ecc)\n",
    "run(ecc.FieldElementTest('test_sub'))"
   ]
  },
  {
   "cell_type": "code",
   "execution_count": 9,
   "id": "67f92c29",
   "metadata": {},
   "outputs": [
    {
     "name": "stdout",
     "output_type": "stream",
     "text": [
      "8\n",
      "2\n",
      "1\n",
      "1\n"
     ]
    }
   ],
   "source": [
    "# Multiplication/Exponentiation Example\n",
    "print(2 * 4 % 19)\n",
    "print(7 * 3 % 19)\n",
    "print(11 ** 3 % 19)\n",
    "print(pow(11, 3, 19))"
   ]
  },
  {
   "cell_type": "markdown",
   "id": "6d406cbe",
   "metadata": {},
   "source": [
    "### Exercise 4\n",
    "Solve these equations in \\\\(F_{31}\\\\):\n",
    "* \\\\(24\\cdot19=?\\\\)\n",
    "* \\\\(17^3=?\\\\)\n",
    "* \\\\(5^5\\cdot18=?\\\\)\n"
   ]
  },
  {
   "cell_type": "code",
   "execution_count": 10,
   "id": "cfe1f1f5",
   "metadata": {},
   "outputs": [
    {
     "name": "stdout",
     "output_type": "stream",
     "text": [
      "7\n",
      "15\n",
      "16\n"
     ]
    }
   ],
   "source": [
    "# Exercise 4\n",
    "\n",
    "# remember that ** is the exponentiation operator\n",
    "prime = 31\n",
    "# 24*19=?\n",
    "print(2*19 % prime)\n",
    "\n",
    "# 17^3=?\n",
    "print(pow(17, 3, prime))\n",
    "\n",
    "# 5^5*18=?\n",
    "print(pow(5, 5, prime) * 18 % prime)\n"
   ]
  },
  {
   "cell_type": "markdown",
   "id": "85131fb9",
   "metadata": {},
   "source": [
    "### Exercise 5\n",
    "Write a program to calculate \\\\(0\\cdot k, 1\\cdot k, 2\\cdot k, 3\\cdot k, ... 30\\cdot k\\\\) for some \\\\(k\\\\) in \\\\(F_{31}\\\\).  Notice anything about these sets?\n"
   ]
  },
  {
   "cell_type": "code",
   "execution_count": 28,
   "id": "0e9ac636",
   "metadata": {},
   "outputs": [
    {
     "name": "stdout",
     "output_type": "stream",
     "text": [
      "[0, 1, 2, 3, 4, 5, 6, 7, 8, 9, 10, 11, 12, 13, 14, 15, 16, 17, 18, 19, 20, 21, 22, 23, 24, 25, 26, 27, 28, 29, 30]\n"
     ]
    }
   ],
   "source": [
    "# Exercise 5\n",
    "\n",
    "from random import randint\n",
    "prime = 31\n",
    "k = randint(1,prime)\n",
    "# results = []\n",
    "# for i in range(prime):\n",
    "#     res = i * k % prime\n",
    "#     results.append(res)\n",
    "#     print(res)\n",
    "\n",
    "# print('     ')\n",
    "\n",
    "# print(len(results))\n",
    "\n",
    "# results.sort()\n",
    "# print(results)\n",
    "# use range(prime) to iterate over all numbers from 0 to 30 inclusive\n",
    "print(sorted([i * k % prime for i in range(prime)]))"
   ]
  },
  {
   "cell_type": "markdown",
   "id": "2f9cedc4",
   "metadata": {},
   "source": [
    "### Exercise 6\n",
    "\n",
    "\n",
    "\n",
    "\n",
    "#### Make [this test](/edit/session1/ecc.py) pass: `ecc.py:FieldElementTest:test_mul`"
   ]
  },
  {
   "cell_type": "code",
   "execution_count": 20,
   "id": "1cfb70e4",
   "metadata": {},
   "outputs": [
    {
     "name": "stderr",
     "output_type": "stream",
     "text": [
      ".\n",
      "----------------------------------------------------------------------\n",
      "Ran 1 test in 0.001s\n",
      "\n",
      "OK\n"
     ]
    }
   ],
   "source": [
    "# Exercise 6\n",
    "\n",
    "reload(ecc)\n",
    "run(ecc.FieldElementTest('test_mul'))"
   ]
  },
  {
   "cell_type": "markdown",
   "id": "f89573bf",
   "metadata": {},
   "source": [
    "### Exercise 7\n",
    "\n",
    "\n",
    "\n",
    "\n",
    "#### Make [this test](/edit/session1/ecc.py) pass: `ecc.py:FieldElementTest:test_pow`"
   ]
  },
  {
   "cell_type": "code",
   "execution_count": 21,
   "id": "30f69903",
   "metadata": {},
   "outputs": [
    {
     "name": "stderr",
     "output_type": "stream",
     "text": [
      ".\n",
      "----------------------------------------------------------------------\n",
      "Ran 1 test in 0.004s\n",
      "\n",
      "OK\n"
     ]
    }
   ],
   "source": [
    "# Exercise 7\n",
    "\n",
    "reload(ecc)\n",
    "run(ecc.FieldElementTest('test_pow'))"
   ]
  },
  {
   "cell_type": "markdown",
   "id": "7a4a9553",
   "metadata": {},
   "source": [
    "### Exercise 8\n",
    "#### BONUS QUESTION, ONLY ATTEMPT IF YOU HAVE TIME\n",
    "Write a program to calculate \\\\(i^{30}\\\\) for all i in \\\\(F_{31}\\\\). Notice anything?\n"
   ]
  },
  {
   "cell_type": "code",
   "execution_count": 31,
   "id": "b0dee511",
   "metadata": {},
   "outputs": [
    {
     "name": "stdout",
     "output_type": "stream",
     "text": [
      "[1, 1, 1, 1, 1, 1, 1, 1, 1, 1, 1, 1, 1, 1, 1, 1, 1, 1, 1, 1, 1, 1, 1, 1, 1, 1, 1, 1, 1, 1]\n"
     ]
    }
   ],
   "source": [
    "# Exercise 8\n",
    "\n",
    "# Bonus\n",
    "prime = 31\n",
    "\n",
    "print([pow(i, prime - 1, prime) for i in range(1, prime)])"
   ]
  },
  {
   "cell_type": "code",
   "execution_count": 32,
   "id": "13c325ca",
   "metadata": {},
   "outputs": [
    {
     "name": "stdout",
     "output_type": "stream",
     "text": [
      "7\n",
      "7\n",
      "4\n",
      "4\n"
     ]
    }
   ],
   "source": [
    "# Division Example\n",
    "print(2 * 3**17 % 19)\n",
    "print(2 * pow(3, 17, 19) % 19)\n",
    "print(3 * 15**17 % 19)\n",
    "print(3 * pow(15, -1, 19) % 19)"
   ]
  },
  {
   "cell_type": "markdown",
   "id": "5a891aec",
   "metadata": {},
   "source": [
    "### Exercise 9\n",
    "Solve these equations in \\\\(F_{31}\\\\):\n",
    "* \\\\(3/24 = ?\\\\)\n",
    "* \\\\(17^{-3} = ?\\\\)\n",
    "* \\\\(4^{-4}\\cdot{11} = ?\\\\)\n"
   ]
  },
  {
   "cell_type": "code",
   "execution_count": 35,
   "id": "0c19df45",
   "metadata": {},
   "outputs": [
    {
     "name": "stdout",
     "output_type": "stream",
     "text": [
      "4\n",
      "29\n",
      "13\n"
     ]
    }
   ],
   "source": [
    "# Exercise 9\n",
    "\n",
    "# remember pow(x, p-2, p) is the same as 1/x in F_p\n",
    "prime = 31\n",
    "# 3/24 = ?\n",
    "print(3 * pow(24, prime - 2, prime) % prime)\n",
    "\n",
    "# 17^(-3) = ?\n",
    "print(pow(17, -3, prime))\n",
    "\n",
    "# 4^(-4)*11 = ?\n",
    "print(11 * pow(4, -4, prime) % prime)\n"
   ]
  },
  {
   "cell_type": "markdown",
   "id": "5d3b50a4",
   "metadata": {},
   "source": [
    "### Exercise 10\n",
    "\n",
    "\n",
    "\n",
    "\n",
    "#### Make [this test](/edit/session1/ecc.py) pass: `ecc.py:FieldElementTest:test_div`"
   ]
  },
  {
   "cell_type": "code",
   "execution_count": 37,
   "id": "f8a43ef4",
   "metadata": {},
   "outputs": [
    {
     "name": "stderr",
     "output_type": "stream",
     "text": [
      ".\n",
      "----------------------------------------------------------------------\n",
      "Ran 1 test in 0.001s\n",
      "\n",
      "OK\n"
     ]
    }
   ],
   "source": [
    "# Exercise 10\n",
    "\n",
    "reload(ecc)\n",
    "run(ecc.FieldElementTest('test_div'))"
   ]
  },
  {
   "cell_type": "code",
   "execution_count": 38,
   "id": "52fc08cc",
   "metadata": {},
   "outputs": [
    {
     "name": "stdout",
     "output_type": "stream",
     "text": [
      "True\n"
     ]
    }
   ],
   "source": [
    "# Elliptic Curve Example\n",
    "x, y = -1, -1\n",
    "print(y**2 == x**3 + 5*x + 7)"
   ]
  },
  {
   "cell_type": "markdown",
   "id": "d03695fc",
   "metadata": {},
   "source": [
    "### Exercise 11\n",
    "For the curve \\\\(y^2 = x^3 + 5x + 7\\\\), which of these points are on the curve?\n",
    "\\\\((-2,4), (3,7), (18,77)\\\\)\n"
   ]
  },
  {
   "cell_type": "code",
   "execution_count": 40,
   "id": "79eb6e4f",
   "metadata": {},
   "outputs": [
    {
     "name": "stdout",
     "output_type": "stream",
     "text": [
      "False\n",
      "True\n",
      "True\n"
     ]
    }
   ],
   "source": [
    "# Exercise 11\n",
    "\n",
    "# (-2,4), (3,7), (18,77)\n",
    "# equation in python is: y**2 == x**3 + 5*x + 7\n",
    "points = ((-2,4), (3,7), (18,77))\n",
    "for x, y in points:\n",
    "    # determine whether (x,y) is on the curve\n",
    "    print(y**2 == x**3 + 5*x + 7)\n",
    "\n",
    "\n",
    "\n",
    "\n"
   ]
  },
  {
   "cell_type": "markdown",
   "id": "7573c6f4",
   "metadata": {},
   "source": [
    "### Exercise 12\n",
    "\n",
    "\n",
    "\n",
    "\n",
    "#### Make [this test](/edit/session1/ecc.py) pass: `ecc.py:PointTest:test_on_curve`"
   ]
  },
  {
   "cell_type": "code",
   "execution_count": 58,
   "id": "c18bc257",
   "metadata": {},
   "outputs": [
    {
     "name": "stderr",
     "output_type": "stream",
     "text": [
      ".\n",
      "----------------------------------------------------------------------\n",
      "Ran 1 test in 0.002s\n",
      "\n",
      "OK\n"
     ]
    }
   ],
   "source": [
    "# Exercise 12\n",
    "\n",
    "reload(ecc)\n",
    "run(ecc.PointTest('test_on_curve'))"
   ]
  },
  {
   "cell_type": "markdown",
   "id": "ee533e1f",
   "metadata": {},
   "source": [
    "### Exercise 13\n",
    "\n",
    "\n",
    "\n",
    "\n",
    "#### Make [this test](/edit/session1/ecc.py) pass: `ecc.py:PointTest:test_add0`"
   ]
  },
  {
   "cell_type": "code",
   "execution_count": 57,
   "id": "4b932b58",
   "metadata": {},
   "outputs": [
    {
     "name": "stderr",
     "output_type": "stream",
     "text": [
      ".\n",
      "----------------------------------------------------------------------\n",
      "Ran 1 test in 0.003s\n",
      "\n",
      "OK\n"
     ]
    }
   ],
   "source": [
    "# Exercise 13\n",
    "\n",
    "reload(ecc)\n",
    "run(ecc.PointTest('test_add0'))"
   ]
  },
  {
   "cell_type": "code",
   "execution_count": 52,
   "id": "a1b47fef",
   "metadata": {},
   "outputs": [
    {
     "name": "stdout",
     "output_type": "stream",
     "text": [
      "-1.0 1.0\n"
     ]
    }
   ],
   "source": [
    "# Point Addition where x1 != x2 Example\n",
    "x1, y1 = (2, 5)\n",
    "x2, y2 = (3, 7)\n",
    "s = (y2-y1)/(x2-x1)\n",
    "x3 = s**2 - x2 - x1\n",
    "y3 = s*(x1-x3)-y1\n",
    "print(x3, y3)"
   ]
  },
  {
   "cell_type": "markdown",
   "id": "7b3c697e",
   "metadata": {},
   "source": [
    "### Exercise 14\n",
    "For the curve \\\\(y^2 = x^3 + 5x + 7\\\\), what is \\\\((2,5) + (-1,-1)\\\\)?\n"
   ]
  },
  {
   "cell_type": "code",
   "execution_count": 53,
   "id": "811ec370",
   "metadata": {},
   "outputs": [
    {
     "name": "stdout",
     "output_type": "stream",
     "text": [
      "3.0 -7.0\n"
     ]
    }
   ],
   "source": [
    "# Exercise 14\n",
    "\n",
    "x1, y1 = (2,5)\n",
    "x2, y2 = (-1,-1)\n",
    "# formula in python:\n",
    "s = (y2-y1)/(x2-x1)\n",
    "\n",
    "x3 = s**2 - x2 - x1\n",
    "\n",
    "y3 = s*(x1-x3)-y1\n",
    "\n",
    "print(x3, y3)\n",
    "# print the coordinates\n"
   ]
  },
  {
   "cell_type": "markdown",
   "id": "5767ce69",
   "metadata": {},
   "source": [
    "### Exercise 15\n",
    "\n",
    "\n",
    "\n",
    "\n",
    "#### Make [this test](/edit/session1/ecc.py) pass: `ecc.py:PointTest:test_add1`"
   ]
  },
  {
   "cell_type": "code",
   "execution_count": 56,
   "id": "d31a72cf",
   "metadata": {},
   "outputs": [
    {
     "name": "stderr",
     "output_type": "stream",
     "text": [
      ".\n",
      "----------------------------------------------------------------------\n",
      "Ran 1 test in 0.003s\n",
      "\n",
      "OK\n"
     ]
    }
   ],
   "source": [
    "# Exercise 15\n",
    "\n",
    "reload(ecc)\n",
    "run(ecc.PointTest('test_add1'))"
   ]
  },
  {
   "cell_type": "code",
   "execution_count": 55,
   "id": "0fa48979",
   "metadata": {},
   "outputs": [
    {
     "name": "stdout",
     "output_type": "stream",
     "text": [
      "-1.1100000000000003 0.2870000000000008\n"
     ]
    }
   ],
   "source": [
    "# Point Addition where x1 = x2 Example\n",
    "a = 5\n",
    "x1, y1 = (2, 5)\n",
    "s = (3*x1**2+a)/(2*y1)\n",
    "x3 = s**2 - 2*x1\n",
    "y3 = s*(x1-x3) - y1\n",
    "print(x3, y3)"
   ]
  },
  {
   "cell_type": "markdown",
   "id": "20f3637f",
   "metadata": {},
   "source": [
    "### Exercise 16\n",
    "For the curve \\\\(y^2 = x^3 + 5x + 7\\\\), what is \\\\((-1,1) + (-1,1)\\\\)?\n"
   ]
  },
  {
   "cell_type": "code",
   "execution_count": 59,
   "id": "1640c922",
   "metadata": {},
   "outputs": [
    {
     "name": "stdout",
     "output_type": "stream",
     "text": [
      "18.0 77.0\n"
     ]
    }
   ],
   "source": [
    "# Exercise 16\n",
    "\n",
    "a, b = 5, 7\n",
    "x1, y1 = -1, -1\n",
    "# formula in python\n",
    "s = (3*x1**2+a)/(2*y1)\n",
    "\n",
    "x3 = s**2 - 2*x1\n",
    "\n",
    "y3 = s*(x1-x3) - y1\n",
    "\n",
    "# print the coordinates\n",
    "print(x3, y3)"
   ]
  },
  {
   "cell_type": "markdown",
   "id": "2aaf23ed",
   "metadata": {},
   "source": [
    "### Exercise 17\n",
    "\n",
    "\n",
    "\n",
    "\n",
    "#### Make [this test](/edit/session1/ecc.py) pass: `ecc.py:PointTest:test_add2`"
   ]
  },
  {
   "cell_type": "code",
   "execution_count": 60,
   "id": "842925d0",
   "metadata": {},
   "outputs": [
    {
     "name": "stderr",
     "output_type": "stream",
     "text": [
      ".\n",
      "----------------------------------------------------------------------\n",
      "Ran 1 test in 0.001s\n",
      "\n",
      "OK\n"
     ]
    }
   ],
   "source": [
    "# Exercise 17\n",
    "\n",
    "reload(ecc)\n",
    "run(ecc.PointTest('test_add2'))"
   ]
  },
  {
   "cell_type": "code",
   "execution_count": null,
   "id": "705fda68",
   "metadata": {},
   "outputs": [],
   "source": []
  }
 ],
 "metadata": {
  "kernelspec": {
   "display_name": "Python 3",
   "language": "python",
   "name": "python3"
  },
  "language_info": {
   "codemirror_mode": {
    "name": "ipython",
    "version": 3
   },
   "file_extension": ".py",
   "mimetype": "text/x-python",
   "name": "python",
   "nbconvert_exporter": "python",
   "pygments_lexer": "ipython3",
   "version": "3.9.5"
  }
 },
 "nbformat": 4,
 "nbformat_minor": 5
}
