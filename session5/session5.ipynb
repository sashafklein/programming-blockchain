{
 "cells": [
  {
   "cell_type": "code",
   "execution_count": 1,
   "id": "7122aab2",
   "metadata": {},
   "outputs": [],
   "source": [
    "############## PLEASE RUN THIS CELL FIRST! ###################\n",
    "\n",
    "# import everything and define a test runner function\n",
    "from importlib import reload\n",
    "from helper import run\n",
    "import helper, op, script, tx"
   ]
  },
  {
   "cell_type": "markdown",
   "id": "c41edc71",
   "metadata": {},
   "source": [
    "### Exercise 1\n",
    "\n",
    "\n",
    "\n",
    "\n",
    "#### Make [this test](/edit/session5/tx.py) pass: `tx.py:TxTest:test_verify_p2pkh`"
   ]
  },
  {
   "cell_type": "code",
   "execution_count": 6,
   "id": "64f68d7b",
   "metadata": {},
   "outputs": [
    {
     "name": "stderr",
     "output_type": "stream",
     "text": [
      ".\n",
      "----------------------------------------------------------------------\n",
      "Ran 1 test in 0.490s\n",
      "\n",
      "OK\n"
     ]
    }
   ],
   "source": [
    "# Exercise 1\n",
    "\n",
    "reload(tx)\n",
    "run(tx.TxTest('test_verify_p2pkh'))"
   ]
  },
  {
   "cell_type": "code",
   "execution_count": 3,
   "id": "bf852c6c",
   "metadata": {},
   "outputs": [
    {
     "name": "stdout",
     "output_type": "stream",
     "text": [
      "0100000001494127dba8aea354ebae1de80c2d7a2a223eed27666a85bce371de3790f6e28b040000006b483045022100fa3032607b50e8cb05bedc9d43f986f19dedc22e61320b9765061c5cd9c66946022072d514ef637988515bfa59a660596206de68f0ed4090d0a398e70f4d81370dfb012103935581e52c354cd2f484fe8ed83af7a3097005b2f9c60bff71d35bd795f54b67ffffffff0280d54302000000001976a914d52ad7ca9b3d096a38e752c2018e6fbc40cdf26f88ac80969800000000001976a914507b27411ccf7f16f10297de6cef3f291623eddf88ac00000000\n"
     ]
    }
   ],
   "source": [
    "# Transaction Construction Example\n",
    "from ecc import PrivateKey\n",
    "from helper import decode_base58, SIGHASH_ALL\n",
    "from script import p2pkh_script, Script\n",
    "from tx import Tx, TxIn, TxOut\n",
    "# Step 1\n",
    "tx_ins = []\n",
    "prev_tx = bytes.fromhex('8be2f69037de71e3bc856a6627ed3e222a7a2d0ce81daeeb54a3aea8db274149')\n",
    "prev_index = 4\n",
    "tx_ins.append(TxIn(prev_tx, prev_index))\n",
    "# Step 2\n",
    "tx_outs = []\n",
    "h160 = decode_base58('mzx5YhAH9kNHtcN481u6WkjeHjYtVeKVh2')\n",
    "tx_outs.append(TxOut(\n",
    "    amount=int(0.38*100000000),\n",
    "    script_pubkey=p2pkh_script(h160),\n",
    "))\n",
    "h160 = decode_base58('mnrVtF8DWjMu839VW3rBfgYaAfKk8983Xf')\n",
    "tx_outs.append(TxOut(\n",
    "    amount=int(0.1*100000000),\n",
    "    script_pubkey=p2pkh_script(h160),\n",
    "))\n",
    "tx_obj = Tx(1, tx_ins, tx_outs, 0, testnet=True)\n",
    "# Step 3\n",
    "z = tx_obj.sig_hash(0)\n",
    "pk = PrivateKey(secret=8675309)\n",
    "der = pk.sign(z).der()\n",
    "sig = der + SIGHASH_ALL.to_bytes(1, 'big')\n",
    "sec = pk.point.sec()\n",
    "tx_obj.tx_ins[0].script_sig = Script([sig, sec])\n",
    "print(tx_obj.serialize().hex())"
   ]
  },
  {
   "cell_type": "markdown",
   "id": "8956bb01",
   "metadata": {},
   "source": [
    "### Exercise 2\n",
    "\n",
    "\n",
    "\n",
    "\n",
    "#### Make [this test](/edit/session5/tx.py) pass: `tx.py:TxTest:test_sign_input`"
   ]
  },
  {
   "cell_type": "code",
   "execution_count": 13,
   "id": "35ff585e",
   "metadata": {},
   "outputs": [
    {
     "name": "stderr",
     "output_type": "stream",
     "text": [
      ".\n",
      "----------------------------------------------------------------------\n",
      "Ran 1 test in 0.279s\n",
      "\n",
      "OK\n"
     ]
    }
   ],
   "source": [
    "# Exercise 2\n",
    "\n",
    "reload(tx)\n",
    "run(tx.TxTest('test_sign_input'))"
   ]
  },
  {
   "cell_type": "markdown",
   "id": "0eb8165e",
   "metadata": {},
   "source": [
    "### Exercise 3\n",
    "Send 0.04 TBTC to this address\n",
    "\n",
    "`mqYz6JpuKukHzPg94y4XNDdPCEJrNkLQcv`\n",
    "\n",
    "#### Go here to send your transaction: https://blockstream.info/testnet/tx/push\n"
   ]
  },
  {
   "cell_type": "code",
   "execution_count": 18,
   "id": "786136b2",
   "metadata": {},
   "outputs": [
    {
     "name": "stdout",
     "output_type": "stream",
     "text": [
      "01000000017c656e612f54e0d8b198635d152acb2480cc3c0739bd8dc85203874542635a8f080000006a47304402206646357534e6529697b6e3ff774e10530761ca51948f20af188184714dbfeb5902205b5efe0abc2d69882b71afdec793edcafbff842c921b97361c094642771363a501210396b9578d8782e7f29c0562e20234ed5bf3ba47b4a98af9baa1c820249715eedaffffffff0200093d00000000001976a9146e13971913b9aa89659a9f53d327baa8826f2d7588ac30ca5a00000000001976a914e968eda63cead5463b83804dacb3f06ba4120f8a88ac00000000\n"
     ]
    }
   ],
   "source": [
    "# Exercise 3\n",
    "\n",
    "from tx import Tx, TxIn, TxOut\n",
    "from helper import decode_base58, hash256, little_endian_to_int\n",
    "from script import p2pkh_script\n",
    "prev_tx = bytes.fromhex('8f5a634245870352c88dbd39073ccc8024cb2a155d6398b1d8e0542f616e657c')  # CHANGE\n",
    "prev_index = 8  # CHANGE\n",
    "target_address = 'mqYz6JpuKukHzPg94y4XNDdPCEJrNkLQcv'\n",
    "target_amount = 0.04\n",
    "fee = 50000\n",
    "passphrase = b'sashafklein@gmail.com:funnypassphrase'  # CHANGE\n",
    "secret = little_endian_to_int(hash256(passphrase))\n",
    "private_key = PrivateKey(secret=secret)\n",
    "change_address = private_key.point.address(testnet=True)\n",
    "\n",
    "# initialize inputs\n",
    "tx_ins = []\n",
    "\n",
    "# create a new tx input with prev_tx, prev_index\n",
    "tx_in = TxIn(prev_tx, prev_index)\n",
    "tx_ins.append(tx_in)\n",
    "\n",
    "# initialize outputs\n",
    "tx_outs = []\n",
    "\n",
    "# decode the hash160 from the target address\n",
    "target_hash160 = decode_base58(target_address)\n",
    "\n",
    "# convert hash160 to p2pkh script\n",
    "target_p2pkh = p2pkh_script(target_hash160)\n",
    "\n",
    "# convert target amount to satoshis (multiply by 100 million)\n",
    "target_amount = int(target_amount * 100000000)\n",
    "\n",
    "# create a new tx output for target with amount and script_pubkey\n",
    "target_out = TxOut(\n",
    "    amount=target_amount,\n",
    "    script_pubkey=target_p2pkh,\n",
    ")\n",
    "\n",
    "# decode the hash160 from the change address\n",
    "change_hash160 = decode_base58(change_address)\n",
    "\n",
    "# convert hash160 to p2pkh script\n",
    "change_p2pkh = p2pkh_script(change_hash160)\n",
    "\n",
    "# get the value for the transaction input (remember testnet=True)\n",
    "value = tx_in.value(testnet=True)\n",
    "\n",
    "# calculate change_satoshis based on previous amount, target_satoshis & fee\n",
    "change = value - target_amount - fee\n",
    "\n",
    "# create a new tx output for target with amount and script_pubkey\n",
    "change_out = TxOut(\n",
    "    amount=change,\n",
    "    script_pubkey=change_p2pkh,\n",
    ")\n",
    "\n",
    "tx_outs.append(target_out)\n",
    "tx_outs.append(change_out)\n",
    "\n",
    "# create the transaction (name it tx_obj and set testnet=True)\n",
    "tx_obj = Tx(1, tx_ins, tx_outs, 0, testnet=True)\n",
    "\n",
    "# now sign the 0th input with the private_key using sign_input\n",
    "tx_obj.sign_input(0, private_key)\n",
    "\n",
    "# SANITY CHECK: change address corresponds to private key\n",
    "if private_key.point.address(testnet=True) != change_address:\n",
    "    raise RuntimeError('Private Key does not correspond to Change Address, check priv_key and change_address')\n",
    "# SANITY CHECK: output's script_pubkey is the same one as your address\n",
    "if tx_ins[0].script_pubkey(testnet=True).commands[2] != decode_base58(change_address):\n",
    "    raise RuntimeError('Output is not something you can spend with this private key. Check that the prev_tx and prev_index are correct')\n",
    "# SANITY CHECK: fee is reasonable\n",
    "if tx_obj.fee() > 0.05*100000000 or tx_obj.fee() <= 0:\n",
    "    raise RuntimeError(f'Check that the change amount is reasonable. Fee is {tx_obj.fee()}')\n",
    "\n",
    "serialized = tx_obj.serialize()\n",
    "hexed = serialized.hex()\n",
    "print(hexed)\n",
    "# serialize and hex()\n"
   ]
  },
  {
   "cell_type": "markdown",
   "id": "66b9d9fe",
   "metadata": {},
   "source": [
    "### Exercise 4\n",
    "#### Bonus Question. Only attempt if you've finished Exercise 3 and have time to try it.\n",
    "\n",
    "Get some testnet coins and spend both outputs (one from your change address and one from the testnet faucet) to\n",
    "\n",
    "`mqYz6JpuKukHzPg94y4XNDdPCEJrNkLQcv`\n",
    "\n",
    "#### You can get some free testnet coins at: https://testnet.coinfaucet.eu/en/\n"
   ]
  },
  {
   "cell_type": "code",
   "execution_count": 28,
   "id": "6d643d6c",
   "metadata": {},
   "outputs": [
    {
     "name": "stdout",
     "output_type": "stream",
     "text": [
      "2000000\n",
      "1000000\n",
      "50000\n",
      "3000000\n",
      "6050000\n",
      "01000000022737916c0c100304f394cd844f6090598ed2d33a3007406f884a79893509d399010000006a473044022019637cfc23b80cccf2d728ef4a239a6daaf8e86534acc60848a34e6f3733810102207f48e2c57231fbf32a249d184d57cdca4828be14a20698c74096f1dc97f50ae401210396b9578d8782e7f29c0562e20234ed5bf3ba47b4a98af9baa1c820249715eedaffffffffb9e402ac0d9c3193a8b9838afc07e3eb6c6b0d1a19485f8982aa059f26621a8a010000006b48304502210088909afc62b7dd097421f37a4360b5dad41185097f0f69a8496c442f142af18802200947253599b7e0086cced4979ee7682814845ea14130d13ee5500a6dcf76b64d01210396b9578d8782e7f29c0562e20234ed5bf3ba47b4a98af9baa1c820249715eedaffffffff0380841e00000000001976a9146e13971913b9aa89659a9f53d327baa8826f2d7588ac40420f00000000001976a914344a0f48ca150ec2b903817660b9b68b13a6702688acc0c62d00000000001976a914e968eda63cead5463b83804dacb3f06ba4120f8a88ac00000000\n"
     ]
    }
   ],
   "source": [
    "# Exercise 4\n",
    "\n",
    "# Bonus\n",
    "from tx import Tx, TxIn, TxOut\n",
    "from helper import decode_base58, hash256, little_endian_to_int\n",
    "from script import p2pkh_script\n",
    "prev_tx_1 = bytes.fromhex('99d3093589794a886f4007303ad3d28e5990604f84cd94f30403100c6c913727')  # CHANGE\n",
    "prev_index_1 = 1  # CHANGE\n",
    "prev_tx_2 = bytes.fromhex('8a1a62269f05aa82895f48191a0d6b6cebe307fc8a83b9a893319c0dac02e4b9')  # CHANGE\n",
    "prev_index_2 = 1  # CHANGE\n",
    "target_btc = 0.02\n",
    "faucet_btc = 0.01\n",
    "target_address = 'mqYz6JpuKukHzPg94y4XNDdPCEJrNkLQcv'\n",
    "faucet_address = 'mkHS9ne12qx9pS9VojpwU5xtRd4T7X7ZUt'\n",
    "fee = 50000\n",
    "passphrase = b'sashafklein@gmail.com:funnypassphrase'  # CHANGE\n",
    "secret = little_endian_to_int(hash256(passphrase))\n",
    "private_key = PrivateKey(secret=secret)\n",
    "change_address = private_key.point.address(testnet=True)\n",
    "\n",
    "# initialize inputs\n",
    "tx_ins = []\n",
    "\n",
    "# create a new tx input with prev_tx, prev_index\n",
    "tx_in_1 = TxIn(prev_tx_1, prev_index_1)\n",
    "tx_in_2 = TxIn(prev_tx_2, prev_index_2)\n",
    "tx_ins.append(tx_in_1)\n",
    "tx_ins.append(tx_in_2)\n",
    "\n",
    "# initialize outputs\n",
    "tx_outs = []\n",
    "\n",
    "# decode the hash160 from the target address\n",
    "target_hash160 = decode_base58(target_address)\n",
    "\n",
    "# convert hash160 to p2pkh script\n",
    "target_p2pkh = p2pkh_script(target_hash160)\n",
    "\n",
    "# convert target amount to satoshis (multiply by 100 million)\n",
    "target_amount = int(target_btc * 100000000)\n",
    "\n",
    "# create a new tx output for target with amount and script_pubkey\n",
    "target_out = TxOut(\n",
    "    amount=target_amount,\n",
    "    script_pubkey=target_p2pkh,\n",
    ")\n",
    "\n",
    "# decode the hash160 from the change address\n",
    "faucet_hash160 = decode_base58(faucet_address)\n",
    "\n",
    "# convert hash160 to p2pkh script\n",
    "faucet_p2pkh = p2pkh_script(faucet_hash160)\n",
    "\n",
    "faucet_amount = int(faucet_btc * 100000000)\n",
    "\n",
    "faucet_out = TxOut(\n",
    "    amount=faucet_amount,\n",
    "    script_pubkey = faucet_p2pkh\n",
    ")\n",
    "\n",
    "# decode the hash160 from the change address\n",
    "change_hash160 = decode_base58(change_address)\n",
    "\n",
    "# convert hash160 to p2pkh script\n",
    "change_p2pkh = p2pkh_script(change_hash160)\n",
    "\n",
    "# get the value for the transaction input (remember testnet=True)\n",
    "value = tx_in_1.value(testnet=True) + tx_in_2.value(testnet=True)\n",
    "\n",
    "# calculate change_satoshis based on previous amount, target_satoshis & fee\n",
    "change = value - target_amount - faucet_amount - fee\n",
    "print(target_amount)\n",
    "print(faucet_amount)\n",
    "print(fee)\n",
    "print(change)\n",
    "print(value)\n",
    "\n",
    "# create a new tx output for target with amount and script_pubkey\n",
    "change_out = TxOut(\n",
    "    amount=change,\n",
    "    script_pubkey=change_p2pkh,\n",
    ")\n",
    "\n",
    "tx_outs.append(target_out)\n",
    "tx_outs.append(faucet_out)\n",
    "tx_outs.append(change_out)\n",
    "\n",
    "# create the transaction (name it tx_obj and set testnet=True)\n",
    "tx_obj = Tx(1, tx_ins, tx_outs, 0, testnet=True)\n",
    "\n",
    "# now sign the 0th input with the private_key using sign_input\n",
    "tx_obj.sign_input(0, private_key)\n",
    "tx_obj.sign_input(1, private_key)\n",
    "\n",
    "# SANITY CHECK: change address corresponds to private key\n",
    "if private_key.point.address(testnet=True) != change_address:\n",
    "    raise RuntimeError('Private Key does not correspond to Change Address, check priv_key and change_address')\n",
    "# SANITY CHECK: output's script_pubkey is the same one as your address\n",
    "if tx_ins[0].script_pubkey(testnet=True).commands[2] != decode_base58(change_address):\n",
    "    raise RuntimeError('Output is not something you can spend with this private key. Check that the prev_tx and prev_index are correct')\n",
    "# SANITY CHECK: fee is reasonable\n",
    "if tx_obj.fee() > 0.05*100000000 or tx_obj.fee() <= 0:\n",
    "    raise RuntimeError(f'Check that the change amount is reasonable. Fee is {tx_obj.fee()}')\n",
    "\n",
    "serialized = tx_obj.serialize()\n",
    "hexed = serialized.hex()\n",
    "print(hexed)\n",
    "# serialize and hex()"
   ]
  },
  {
   "cell_type": "code",
   "execution_count": null,
   "id": "50208e84",
   "metadata": {},
   "outputs": [],
   "source": [
    "# op_checkmultisig\n",
    "def op_checkmultisig(stack, z):\n",
    "    if len(stack) < 1:\n",
    "        return False\n",
    "    n = decode_num(stack.pop())\n",
    "    if len(stack) < n + 1:\n",
    "        return False\n",
    "    sec_pubkeys = []\n",
    "    for _ in range(n):\n",
    "        sec_pubkeys.append(stack.pop())\n",
    "    m = decode_num(stack.pop())\n",
    "    if len(stack) < m + 1:\n",
    "        return False\n",
    "    der_signatures = []\n",
    "    for _ in range(m):\n",
    "        # signature is assumed to be using SIGHASH_ALL\n",
    "        der_signatures.append(stack.pop()[:-1])\n",
    "    # OP_CHECKMULTISIG bug\n",
    "    stack.pop()\n",
    "    try:\n",
    "        raise NotImplementedError\n",
    "    except (ValueError, SyntaxError):\n",
    "        return False\n",
    "    return True"
   ]
  },
  {
   "cell_type": "markdown",
   "id": "2a292617",
   "metadata": {},
   "source": [
    "### Exercise 5\n",
    "\n",
    "\n",
    "\n",
    "\n",
    "#### Make [this test](/edit/session5/op.py) pass: `op.py:OpTest:test_op_checkmultisig`"
   ]
  },
  {
   "cell_type": "code",
   "execution_count": 33,
   "id": "6625644e",
   "metadata": {},
   "outputs": [
    {
     "name": "stdout",
     "output_type": "stream",
     "text": [
      "S256Point(b287eaf122eea69030a0e9feed096bed8045c8b98bec453e1ffac7fbdbd4bb71,ea9a3d686077906ff4ed2c0d1a7e29d4d04b72b4764ae40c89992181f47e1429)\n"
     ]
    },
    {
     "name": "stderr",
     "output_type": "stream",
     "text": [
      ".\n",
      "----------------------------------------------------------------------\n",
      "Ran 1 test in 0.376s\n",
      "\n",
      "OK\n"
     ]
    }
   ],
   "source": [
    "# Exercise 5\n",
    "\n",
    "reload(op)\n",
    "reload(script)\n",
    "run(op.OpTest('test_op_checkmultisig'))"
   ]
  },
  {
   "cell_type": "markdown",
   "id": "08b5d2e1",
   "metadata": {},
   "source": [
    "### Exercise 6\n",
    "Find the hash160 of the RedeemScript\n",
    "```\n",
    "5221022626e955ea6ea6d98850c994f9107b036b1334f18ca8830bfff1295d21cfdb702103b287eaf122eea69030a0e9feed096bed8045c8b98bec453e1ffac7fbdbd4bb7152ae\n",
    "```\n"
   ]
  },
  {
   "cell_type": "code",
   "execution_count": 36,
   "id": "4d2040f1",
   "metadata": {},
   "outputs": [
    {
     "name": "stdout",
     "output_type": "stream",
     "text": [
      "74d691da1574e6b3c192ecfb52cc8984ee7b6c56\n"
     ]
    }
   ],
   "source": [
    "# Exercise 6\n",
    "\n",
    "from helper import hash160\n",
    "hex_redeem_script = '5221022626e955ea6ea6d98850c994f9107b036b1334f18ca8830bfff1295d21cfdb702103b287eaf122eea69030a0e9feed096bed8045c8b98bec453e1ffac7fbdbd4bb7152ae'\n",
    "# bytes.fromhex script\n",
    "bytes_redeem_script = bytes.fromhex(hex_redeem_script)\n",
    "\n",
    "# hash160 result\n",
    "hash_160 = hash160(bytes_redeem_script)\n",
    "\n",
    "# hex() to display\n",
    "print(hash_160.hex())\n"
   ]
  },
  {
   "cell_type": "code",
   "execution_count": 37,
   "id": "0df8015c",
   "metadata": {},
   "outputs": [
    {
     "name": "stdout",
     "output_type": "stream",
     "text": [
      "3CLoMMyuoDQTPRD3XYZtCvgvkadrAdvdXh\n"
     ]
    }
   ],
   "source": [
    "# P2SH address construction example\n",
    "from helper import encode_base58_checksum\n",
    "print(encode_base58_checksum(b'\\x05'+bytes.fromhex('74d691da1574e6b3c192ecfb52cc8984ee7b6c56')))"
   ]
  },
  {
   "cell_type": "markdown",
   "id": "4d829c3c",
   "metadata": {},
   "source": [
    "### Exercise 7\n",
    "\n",
    "\n",
    "\n",
    "\n",
    "#### Make [this test](/edit/session5/helper.py) pass: `helper.py:HelperTest:test_p2pkh_address`"
   ]
  },
  {
   "cell_type": "code",
   "execution_count": 38,
   "id": "0a4228d3",
   "metadata": {},
   "outputs": [
    {
     "name": "stderr",
     "output_type": "stream",
     "text": [
      ".\n",
      "----------------------------------------------------------------------\n",
      "Ran 1 test in 0.002s\n",
      "\n",
      "OK\n"
     ]
    }
   ],
   "source": [
    "# Exercise 7\n",
    "\n",
    "reload(helper)\n",
    "run(helper.HelperTest('test_p2pkh_address'))"
   ]
  },
  {
   "cell_type": "markdown",
   "id": "f1cd253f",
   "metadata": {},
   "source": [
    "### Exercise 8\n",
    "\n",
    "\n",
    "\n",
    "\n",
    "#### Make [this test](/edit/session5/helper.py) pass: `helper.py:HelperTest:test_p2sh_address`"
   ]
  },
  {
   "cell_type": "code",
   "execution_count": 39,
   "id": "1229a3a5",
   "metadata": {},
   "outputs": [
    {
     "name": "stderr",
     "output_type": "stream",
     "text": [
      ".\n",
      "----------------------------------------------------------------------\n",
      "Ran 1 test in 0.002s\n",
      "\n",
      "OK\n"
     ]
    }
   ],
   "source": [
    "# Exercise 8\n",
    "\n",
    "reload(helper)\n",
    "run(helper.HelperTest('test_p2sh_address'))"
   ]
  },
  {
   "cell_type": "markdown",
   "id": "47541b28",
   "metadata": {},
   "source": [
    "### Exercise 9\n",
    "\n",
    "\n",
    "\n",
    "\n",
    "#### Make [this test](/edit/session5/script.py) pass: `script.py:ScriptTest:test_address`"
   ]
  },
  {
   "cell_type": "code",
   "execution_count": 41,
   "id": "63d6e3dd",
   "metadata": {},
   "outputs": [
    {
     "name": "stderr",
     "output_type": "stream",
     "text": [
      "E\n",
      "======================================================================\n",
      "ERROR: test_address (script.ScriptTest)\n",
      "----------------------------------------------------------------------\n",
      "Traceback (most recent call last):\n",
      "  File \"/Users/sasha/code/btc/pb-exercises/session5/script.py\", line 221, in test_address\n",
      "    self.assertEqual(p2pkh_script_pubkey.address(), address_1)\n",
      "  File \"/Users/sasha/code/btc/pb-exercises/session5/script.py\", line 198, in address\n",
      "    raise NotImplementedError\n",
      "NotImplementedError\n",
      "\n",
      "----------------------------------------------------------------------\n",
      "Ran 1 test in 0.002s\n",
      "\n",
      "FAILED (errors=1)\n"
     ]
    }
   ],
   "source": [
    "# Exercise 9\n",
    "\n",
    "reload(script)\n",
    "run(script.ScriptTest('test_address'))"
   ]
  },
  {
   "cell_type": "code",
   "execution_count": 42,
   "id": "7fadec74",
   "metadata": {},
   "outputs": [
    {
     "name": "stdout",
     "output_type": "stream",
     "text": [
      "0xe71bfa115715d6fd33796948126f40a8cdd39f187e4afb03896795189fe1423c\n"
     ]
    }
   ],
   "source": [
    "# z for p2sh example\n",
    "from helper import hash256\n",
    "h256 = hash256(bytes.fromhex('0100000001868278ed6ddfb6c1ed3ad5f8181eb0c7a385aa0836f01d5e4789e6bd304d87221a000000475221022626e955ea6ea6d98850c994f9107b036b1334f18ca8830bfff1295d21cfdb702103b287eaf122eea69030a0e9feed096bed8045c8b98bec453e1ffac7fbdbd4bb7152aeffffffff04d3b11400000000001976a914904a49878c0adfc3aa05de7afad2cc15f483a56a88ac7f400900000000001976a914418327e3f3dda4cf5b9089325a4b95abdfa0334088ac722c0c00000000001976a914ba35042cfe9fc66fd35ac2224eebdafd1028ad2788acdc4ace020000000017a91474d691da1574e6b3c192ecfb52cc8984ee7b6c56870000000001000000'))\n",
    "z = int.from_bytes(h256, 'big')\n",
    "print(hex(z))"
   ]
  },
  {
   "cell_type": "code",
   "execution_count": 43,
   "id": "5f90c988",
   "metadata": {},
   "outputs": [
    {
     "name": "stdout",
     "output_type": "stream",
     "text": [
      "True\n"
     ]
    }
   ],
   "source": [
    "# p2sh verification example\n",
    "from ecc import S256Point, Signature\n",
    "from helper import hash256\n",
    "h256 = hash256(bytes.fromhex('0100000001868278ed6ddfb6c1ed3ad5f8181eb0c7a385aa0836f01d5e4789e6bd304d87221a000000475221022626e955ea6ea6d98850c994f9107b036b1334f18ca8830bfff1295d21cfdb702103b287eaf122eea69030a0e9feed096bed8045c8b98bec453e1ffac7fbdbd4bb7152aeffffffff04d3b11400000000001976a914904a49878c0adfc3aa05de7afad2cc15f483a56a88ac7f400900000000001976a914418327e3f3dda4cf5b9089325a4b95abdfa0334088ac722c0c00000000001976a914ba35042cfe9fc66fd35ac2224eebdafd1028ad2788acdc4ace020000000017a91474d691da1574e6b3c192ecfb52cc8984ee7b6c56870000000001000000'))\n",
    "z = int.from_bytes(h256, 'big')\n",
    "point = S256Point.parse(bytes.fromhex('022626e955ea6ea6d98850c994f9107b036b1334f18ca8830bfff1295d21cfdb70'))\n",
    "sig = Signature.parse(bytes.fromhex('3045022100dc92655fe37036f47756db8102e0d7d5e28b3beb83a8fef4f5dc0559bddfb94e02205a36d4e4e6c7fcd16658c50783e00c341609977aed3ad00937bf4ee942a89937'))\n",
    "print(point.verify(z, sig))"
   ]
  },
  {
   "cell_type": "markdown",
   "id": "5e9cdf3b",
   "metadata": {},
   "source": [
    "### Exercise 10\n",
    "Validate the second signature of the first input\n",
    "\n",
    "```\n",
    "0100000001868278ed6ddfb6c1ed3ad5f8181eb0c7a385aa0836f01d5e4789e6bd304d87221a000000db00483045022100dc92655fe37036f47756db8102e0d7d5e28b3beb83a8fef4f5dc0559bddfb94e02205a36d4e4e6c7fcd16658c50783e00c341609977aed3ad00937bf4ee942a8993701483045022100da6bee3c93766232079a01639d07fa869598749729ae323eab8eef53577d611b02207bef15429dcadce2121ea07f233115c6f09034c0be68db99980b9a6c5e75402201475221022626e955ea6ea6d98850c994f9107b036b1334f18ca8830bfff1295d21cfdb702103b287eaf122eea69030a0e9feed096bed8045c8b98bec453e1ffac7fbdbd4bb7152aeffffffff04d3b11400000000001976a914904a49878c0adfc3aa05de7afad2cc15f483a56a88ac7f400900000000001976a914418327e3f3dda4cf5b9089325a4b95abdfa0334088ac722c0c00000000001976a914ba35042cfe9fc66fd35ac2224eebdafd1028ad2788acdc4ace020000000017a91474d691da1574e6b3c192ecfb52cc8984ee7b6c568700000000\n",
    "```\n",
    "\n",
    "The sec pubkey of the second signature is:\n",
    "```\n",
    "03b287eaf122eea69030a0e9feed096bed8045c8b98bec453e1ffac7fbdbd4bb71\n",
    "```\n",
    "\n",
    "The der signature of the second signature is:\n",
    "```\n",
    "3045022100da6bee3c93766232079a01639d07fa869598749729ae323eab8eef53577d611b02207bef15429dcadce2121ea07f233115c6f09034c0be68db99980b9a6c5e75402201475221022\n",
    "```\n",
    "\n",
    "The redeemScript is:\n",
    "```\n",
    "475221022626e955ea6ea6d98850c994f9107b036b1334f18ca8830bfff1295d21cfdb702103b287eaf122eea69030a0e9feed096bed8045c8b98bec453e1ffac7fbdbd4bb7152ae\n",
    "```\n"
   ]
  },
  {
   "cell_type": "code",
   "execution_count": 47,
   "id": "e0efa804",
   "metadata": {},
   "outputs": [
    {
     "data": {
      "text/plain": [
       "True"
      ]
     },
     "execution_count": 47,
     "metadata": {},
     "output_type": "execute_result"
    }
   ],
   "source": [
    "# Exercise 10\n",
    "\n",
    "from io import BytesIO\n",
    "from ecc import S256Point, Signature\n",
    "from helper import int_to_little_endian, SIGHASH_ALL\n",
    "from script import Script\n",
    "from tx import Tx\n",
    "hex_sec = '03b287eaf122eea69030a0e9feed096bed8045c8b98bec453e1ffac7fbdbd4bb71'\n",
    "hex_der = '3045022100da6bee3c93766232079a01639d07fa869598749729ae323eab8eef53577d611b02207bef15429dcadce2121ea07f233115c6f09034c0be68db99980b9a6c5e754022'\n",
    "hex_redeem_script = '475221022626e955ea6ea6d98850c994f9107b036b1334f18ca8830bfff1295d21cfdb702103b287eaf122eea69030a0e9feed096bed8045c8b98bec453e1ffac7fbdbd4bb7152ae'\n",
    "sec = bytes.fromhex(hex_sec)\n",
    "der = bytes.fromhex(hex_der)\n",
    "redeem_script_stream = BytesIO(bytes.fromhex(hex_redeem_script))\n",
    "redeem_script = Script.parse(redeem_script_stream)\n",
    "hex_tx = '0100000001868278ed6ddfb6c1ed3ad5f8181eb0c7a385aa0836f01d5e4789e6bd304d87221a000000db00483045022100dc92655fe37036f47756db8102e0d7d5e28b3beb83a8fef4f5dc0559bddfb94e02205a36d4e4e6c7fcd16658c50783e00c341609977aed3ad00937bf4ee942a8993701483045022100da6bee3c93766232079a01639d07fa869598749729ae323eab8eef53577d611b02207bef15429dcadce2121ea07f233115c6f09034c0be68db99980b9a6c5e75402201475221022626e955ea6ea6d98850c994f9107b036b1334f18ca8830bfff1295d21cfdb702103b287eaf122eea69030a0e9feed096bed8045c8b98bec453e1ffac7fbdbd4bb7152aeffffffff04d3b11400000000001976a914904a49878c0adfc3aa05de7afad2cc15f483a56a88ac7f400900000000001976a914418327e3f3dda4cf5b9089325a4b95abdfa0334088ac722c0c00000000001976a914ba35042cfe9fc66fd35ac2224eebdafd1028ad2788acdc4ace020000000017a91474d691da1574e6b3c192ecfb52cc8984ee7b6c568700000000'\n",
    "stream = BytesIO(bytes.fromhex(hex_tx))\n",
    "\n",
    "# parse the S256Point and Signature\n",
    "point = S256Point.parse(sec)\n",
    "sig = Signature.parse(der)\n",
    "\n",
    "# parse the Tx\n",
    "tx_obj = Tx.parse(stream)\n",
    "\n",
    "# change the first input's ScriptSig to RedeemScript\n",
    "tx_obj.tx_ins[0].script_sig = redeem_script\n",
    "\n",
    "# get the serialization\n",
    "serialized = tx_obj.serialize()\n",
    "\n",
    "# add the sighash (4 bytes, little-endian of SIGHASH_ALL)\n",
    "serialized += int_to_little_endian(SIGHASH_ALL, 4)\n",
    "\n",
    "# hash256 the result\n",
    "\n",
    "# your z is the hash256 as a big-endian number: use int.from_bytes(x, 'big')\n",
    "z = int.from_bytes(hash256(serialized), 'big')\n",
    "\n",
    "# now verify the signature using point.verify\n",
    "point.verify(z, sig)"
   ]
  },
  {
   "cell_type": "code",
   "execution_count": null,
   "id": "ad1a76bb",
   "metadata": {},
   "outputs": [],
   "source": []
  }
 ],
 "metadata": {
  "kernelspec": {
   "display_name": "Python 3",
   "language": "python",
   "name": "python3"
  },
  "language_info": {
   "codemirror_mode": {
    "name": "ipython",
    "version": 3
   },
   "file_extension": ".py",
   "mimetype": "text/x-python",
   "name": "python",
   "nbconvert_exporter": "python",
   "pygments_lexer": "ipython3",
   "version": "3.9.5"
  }
 },
 "nbformat": 4,
 "nbformat_minor": 5
}
